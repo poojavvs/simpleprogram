{
  "nbformat": 4,
  "nbformat_minor": 0,
  "metadata": {
    "colab": {
      "name": "01_simple.ipynb",
      "provenance": [],
      "include_colab_link": true
    },
    "kernelspec": {
      "name": "python3",
      "display_name": "Python 3"
    }
  },
  "cells": [
    {
      "cell_type": "markdown",
      "metadata": {
        "id": "view-in-github",
        "colab_type": "text"
      },
      "source": [
        "<a href=\"https://colab.research.google.com/github/poojavvs/simpleprogram/blob/main/01_simple.ipynb\" target=\"_parent\"><img src=\"https://colab.research.google.com/assets/colab-badge.svg\" alt=\"Open In Colab\"/></a>"
      ]
    },
    {
      "cell_type": "code",
      "metadata": {
        "id": "6kfdjeSwTN2p",
        "outputId": "b0a36b50-ed62-4ab7-cdee-01b486890402",
        "colab": {
          "base_uri": "https://localhost:8080/",
          "height": 35
        }
      },
      "source": [
        "%%writefile prog.c\n",
        "\n",
        "#include<stdio.h>\n",
        "\n",
        "int main(void)\n",
        "{\n",
        "    printf(\"Hello World!~~~\");\n",
        "\n",
        "    return 0;  // 정상 완료\n",
        "}"
      ],
      "execution_count": null,
      "outputs": [
        {
          "output_type": "stream",
          "text": [
            "Writing prog.c\n"
          ],
          "name": "stdout"
        }
      ]
    },
    {
      "cell_type": "code",
      "metadata": {
        "id": "I1QFktLNUGD1",
        "outputId": "570745cd-f96c-460f-838b-60a19c53b97c",
        "colab": {
          "base_uri": "https://localhost:8080/",
          "height": 35
        }
      },
      "source": [
        "!ls"
      ],
      "execution_count": null,
      "outputs": [
        {
          "output_type": "stream",
          "text": [
            "prog.c\tsample_data\n"
          ],
          "name": "stdout"
        }
      ]
    },
    {
      "cell_type": "code",
      "metadata": {
        "id": "eKihNbD_UHYB",
        "outputId": "ccf44fcf-65fc-4308-dc0f-7528dcbcbe4a",
        "colab": {
          "base_uri": "https://localhost:8080/",
          "height": 107
        }
      },
      "source": [
        "!gcc --version"
      ],
      "execution_count": null,
      "outputs": [
        {
          "output_type": "stream",
          "text": [
            "gcc (Ubuntu 7.4.0-1ubuntu1~18.04) 7.4.0\n",
            "Copyright (C) 2017 Free Software Foundation, Inc.\n",
            "This is free software; see the source for copying conditions.  There is NO\n",
            "warranty; not even for MERCHANTABILITY or FITNESS FOR A PARTICULAR PURPOSE.\n",
            "\n"
          ],
          "name": "stdout"
        }
      ]
    },
    {
      "cell_type": "code",
      "metadata": {
        "id": "OT9t0yXdUNzI"
      },
      "source": [
        "!gcc -o hello prog.c"
      ],
      "execution_count": null,
      "outputs": []
    },
    {
      "cell_type": "code",
      "metadata": {
        "id": "0uoBCc8UUXyn",
        "outputId": "e06d0bf3-9e4a-4489-e17d-26bf14cfc7fd",
        "colab": {
          "base_uri": "https://localhost:8080/",
          "height": 35
        }
      },
      "source": [
        "!./hello"
      ],
      "execution_count": null,
      "outputs": [
        {
          "output_type": "stream",
          "text": [
            "Hello World!~~~"
          ],
          "name": "stdout"
        }
      ]
    },
    {
      "cell_type": "markdown",
      "source": [
        "**2.check if a number is even or odd**"
      ],
      "metadata": {
        "id": "wMi5fFv9yqkj"
      }
    },
    {
      "cell_type": "code",
      "source": [
        "%%writefile prog.c\n",
        "#include<stdio.h>\n",
        "int main(){\n",
        "  int num;\n",
        "  printf(\"enter a number:\");\n",
        "  scanf(\"%d\",&num);\n",
        "  if(num%2==0)\n",
        "  printf(\"even\\n\");\n",
        "  else;\n",
        "  printf(\"odd\\n\");\n",
        "  return 0;\n",
        "}"
      ],
      "metadata": {
        "colab": {
          "base_uri": "https://localhost:8080/"
        },
        "id": "ZxDrUdEWy3kf",
        "outputId": "8615d26e-a929-476f-afe6-52c547e84f35"
      },
      "execution_count": null,
      "outputs": [
        {
          "output_type": "stream",
          "name": "stdout",
          "text": [
            "Overwriting prog.c\n"
          ]
        }
      ]
    },
    {
      "cell_type": "code",
      "source": [
        "!ls"
      ],
      "metadata": {
        "colab": {
          "base_uri": "https://localhost:8080/"
        },
        "id": "DI93jDO0zvgS",
        "outputId": "375f06c5-0811-484e-cc21-00407029b81c"
      },
      "execution_count": null,
      "outputs": [
        {
          "output_type": "stream",
          "name": "stdout",
          "text": [
            "prog.c\tsample_data  swap\n"
          ]
        }
      ]
    },
    {
      "cell_type": "code",
      "source": [
        "!gcc prog.c"
      ],
      "metadata": {
        "id": "EgLz6Gs-zyNk"
      },
      "execution_count": null,
      "outputs": []
    },
    {
      "cell_type": "code",
      "source": [
        "!./a.out"
      ],
      "metadata": {
        "colab": {
          "base_uri": "https://localhost:8080/"
        },
        "id": "c85vRXN80du2",
        "outputId": "887a4628-d6f6-4f18-8b12-b4dad70ab124"
      },
      "execution_count": null,
      "outputs": [
        {
          "output_type": "stream",
          "name": "stdout",
          "text": [
            "enter a number:3\n",
            "odd\n"
          ]
        }
      ]
    },
    {
      "cell_type": "markdown",
      "source": [
        "**3.swap two numbers(using temp variable)**"
      ],
      "metadata": {
        "id": "NWvkp9rK2klD"
      }
    },
    {
      "cell_type": "code",
      "source": [
        "%%writefile prog.c\n",
        "#include<stdio.h>\n",
        "int main(){\n",
        "int a=5,b=10,temp;\n",
        "temp=a;\n",
        "a=b;\n",
        "b=temp;\n",
        "printf(\"a=%d,b=%d\\n\",a,b);\n",
        "return 0;\n",
        "}"
      ],
      "metadata": {
        "id": "Sf2_Facx2zJW",
        "outputId": "f06b343d-bb97-4099-dd6a-4f8d7fd55222",
        "colab": {
          "base_uri": "https://localhost:8080/"
        }
      },
      "execution_count": null,
      "outputs": [
        {
          "output_type": "stream",
          "name": "stdout",
          "text": [
            "Overwriting prog.c\n"
          ]
        }
      ]
    },
    {
      "cell_type": "code",
      "source": [
        "!ls"
      ],
      "metadata": {
        "id": "tg9VwXLI3Vxd",
        "outputId": "316b8db5-8001-4c73-9331-9ac29b2f8904",
        "colab": {
          "base_uri": "https://localhost:8080/"
        }
      },
      "execution_count": null,
      "outputs": [
        {
          "output_type": "stream",
          "name": "stdout",
          "text": [
            "prog.c\tsample_data\n"
          ]
        }
      ]
    },
    {
      "cell_type": "code",
      "source": [
        "!gcc prog.c"
      ],
      "metadata": {
        "id": "Fi1T7grj3YQa"
      },
      "execution_count": null,
      "outputs": []
    },
    {
      "cell_type": "code",
      "source": [
        "!./a.out"
      ],
      "metadata": {
        "id": "g-ngp5V731KN",
        "outputId": "28b649a2-c49e-4cae-91f4-b753ce9aedff",
        "colab": {
          "base_uri": "https://localhost:8080/"
        }
      },
      "execution_count": null,
      "outputs": [
        {
          "output_type": "stream",
          "name": "stdout",
          "text": [
            "a=10,b=5\n"
          ]
        }
      ]
    },
    {
      "cell_type": "markdown",
      "source": [
        "**4.find maximum of three numbers**"
      ],
      "metadata": {
        "id": "A7gocw-K38vo"
      }
    },
    {
      "cell_type": "code",
      "source": [
        "%%writefile prog.c\n",
        "#include<stdio.h>\n",
        "int main(){\n",
        "  int a,b,c;\n",
        "  printf(\"enter three numbers:\");\n",
        "  scanf(\"%d %d %d\",&a,&b,&c);\n",
        "  if(a>=b && a>=c)\n",
        "  printf(\"max=%d\\n\",a);\n",
        "  else if(b>=a && b>=c)\n",
        "  printf(\"max=%d\\n\",b);\n",
        "  else\n",
        "  printf(\"max=%d\\n\",c);\n",
        "  return 0;\n",
        "}"
      ],
      "metadata": {
        "id": "VRA8P93f4JoG",
        "outputId": "8fe9cf3b-2bbc-485d-f033-89c1ba79769d",
        "colab": {
          "base_uri": "https://localhost:8080/"
        }
      },
      "execution_count": null,
      "outputs": [
        {
          "output_type": "stream",
          "name": "stdout",
          "text": [
            "Overwriting prog.c\n"
          ]
        }
      ]
    },
    {
      "cell_type": "code",
      "source": [
        "!ls"
      ],
      "metadata": {
        "id": "uyu1h_gs5D0I",
        "outputId": "0d5bc1cf-0697-4df8-d623-5668077083be",
        "colab": {
          "base_uri": "https://localhost:8080/"
        }
      },
      "execution_count": null,
      "outputs": [
        {
          "output_type": "stream",
          "name": "stdout",
          "text": [
            "a.out  prog.c  sample_data\n"
          ]
        }
      ]
    },
    {
      "cell_type": "code",
      "source": [
        "!gcc prog.c"
      ],
      "metadata": {
        "id": "57b7nOc75F_s"
      },
      "execution_count": null,
      "outputs": []
    },
    {
      "cell_type": "code",
      "source": [
        "!./a.out"
      ],
      "metadata": {
        "id": "NEveYJjE5KHX",
        "outputId": "40de4686-197f-4942-9904-56daf023ea1a",
        "colab": {
          "base_uri": "https://localhost:8080/"
        }
      },
      "execution_count": null,
      "outputs": [
        {
          "output_type": "stream",
          "name": "stdout",
          "text": [
            "enter three numbers:6 5 7\n",
            "max=7\n"
          ]
        }
      ]
    },
    {
      "cell_type": "markdown",
      "source": [
        "**5.check if number is positive,negative or zero**"
      ],
      "metadata": {
        "id": "vjS-T6fb5sfo"
      }
    },
    {
      "cell_type": "code",
      "source": [
        "%%writefile prog.c\n",
        "#include<stdio.h>\n",
        "int main(){\n",
        "  int n;\n",
        "  printf(\"enter a number:\");\n",
        "  scanf(\"%d\",&n);\n",
        "  if(n>0)\n",
        "  printf(\"postive\\n\");\n",
        "  else if(n<0)\n",
        "  printf(\"negative\\n\");\n",
        "  else\n",
        "  printf(\"zero\\n\");\n",
        "  return 0;\n",
        "}"
      ],
      "metadata": {
        "id": "bvorYYfN58Fm",
        "outputId": "d7754b0c-3057-4f35-bb9d-a3461102d7f3",
        "colab": {
          "base_uri": "https://localhost:8080/"
        }
      },
      "execution_count": null,
      "outputs": [
        {
          "output_type": "stream",
          "name": "stdout",
          "text": [
            "Overwriting prog.c\n"
          ]
        }
      ]
    },
    {
      "cell_type": "code",
      "source": [
        "!ls"
      ],
      "metadata": {
        "id": "2bp8fWnc6reM",
        "outputId": "239f5e21-55e6-44f1-e00e-a73d5591e50c",
        "colab": {
          "base_uri": "https://localhost:8080/"
        }
      },
      "execution_count": null,
      "outputs": [
        {
          "output_type": "stream",
          "name": "stdout",
          "text": [
            "a.out  prog.c  sample_data\n"
          ]
        }
      ]
    },
    {
      "cell_type": "code",
      "source": [
        "!gcc prog.c"
      ],
      "metadata": {
        "id": "umCOwxHH6uBN"
      },
      "execution_count": null,
      "outputs": []
    },
    {
      "cell_type": "code",
      "source": [
        "!./a.out"
      ],
      "metadata": {
        "id": "sQhsDNd96xoh",
        "outputId": "5e01b627-cd4b-4987-fe27-9bfe6117ef0c",
        "colab": {
          "base_uri": "https://localhost:8080/"
        }
      },
      "execution_count": null,
      "outputs": [
        {
          "output_type": "stream",
          "name": "stdout",
          "text": [
            "enter a number:5\n",
            "postive\n"
          ]
        }
      ]
    },
    {
      "cell_type": "markdown",
      "source": [
        "**6.sum of first n natural numbers**"
      ],
      "metadata": {
        "id": "N2T22OkU7HfW"
      }
    },
    {
      "cell_type": "code",
      "source": [
        "%%writefile prog.c\n",
        "#include<stdio.h>\n",
        "int main(){\n",
        "  int n,sum=0;\n",
        "  printf(\"enter n:\");\n",
        "  scanf(\"%d\",&n);\n",
        "  for(int i=1;i<=n;i++)\n",
        "  sum+=i;\n",
        "  printf(\"sum=%d\\n\",sum);\n",
        "  return 0;\n",
        "}"
      ],
      "metadata": {
        "id": "LMNuzAp_7XOt",
        "outputId": "2dc3378d-6c8e-4c4c-8258-d9fd4b5cfe47",
        "colab": {
          "base_uri": "https://localhost:8080/"
        }
      },
      "execution_count": null,
      "outputs": [
        {
          "output_type": "stream",
          "name": "stdout",
          "text": [
            "Overwriting prog.c\n"
          ]
        }
      ]
    },
    {
      "cell_type": "code",
      "source": [
        "!ls"
      ],
      "metadata": {
        "id": "Yp_NNArG8K3p",
        "outputId": "aaf4d78e-b44e-45ac-ab38-d439a0e572bc",
        "colab": {
          "base_uri": "https://localhost:8080/"
        }
      },
      "execution_count": null,
      "outputs": [
        {
          "output_type": "stream",
          "name": "stdout",
          "text": [
            "a.out  prog.c  sample_data\n"
          ]
        }
      ]
    },
    {
      "cell_type": "code",
      "source": [
        "!gcc prog.c"
      ],
      "metadata": {
        "id": "wqpivP1X8NHz"
      },
      "execution_count": null,
      "outputs": []
    },
    {
      "cell_type": "code",
      "source": [
        "!./a.out"
      ],
      "metadata": {
        "id": "4C8lauVC8QXd",
        "outputId": "ea7fa2e3-bdca-4e26-82f2-09e7bb7bb43c",
        "colab": {
          "base_uri": "https://localhost:8080/"
        }
      },
      "execution_count": null,
      "outputs": [
        {
          "output_type": "stream",
          "name": "stdout",
          "text": [
            "enter n:5\n",
            "sum=15\n"
          ]
        }
      ]
    },
    {
      "cell_type": "markdown",
      "source": [
        "**7.factorial of a number(using loop)**"
      ],
      "metadata": {
        "id": "VcsjKvaQ85J8"
      }
    },
    {
      "cell_type": "code",
      "source": [
        "%%writefile prog.c\n",
        "#include<stdio.h>\n",
        "int main(){\n",
        "  int n;\n",
        "  long long fact=1;\n",
        "  printf(\"enter a number:\");\n",
        "  scanf(\"%d\",&n);\n",
        "  for(int i=1;i<=n;i++)\n",
        "  fact*=i;\n",
        "  printf(\"factorial=%lld\\n\",fact);\n",
        "  return 0;\n",
        "}"
      ],
      "metadata": {
        "id": "xpVu0uY29CNH",
        "outputId": "e29ee810-ac7e-452e-b759-b8fcdd34e59a",
        "colab": {
          "base_uri": "https://localhost:8080/"
        }
      },
      "execution_count": null,
      "outputs": [
        {
          "output_type": "stream",
          "name": "stdout",
          "text": [
            "Overwriting prog.c\n"
          ]
        }
      ]
    },
    {
      "cell_type": "code",
      "source": [
        "!ls"
      ],
      "metadata": {
        "id": "ZwGP7ta69zXC",
        "outputId": "0f8f8eea-ab91-453c-a180-333aaa119bb3",
        "colab": {
          "base_uri": "https://localhost:8080/"
        }
      },
      "execution_count": null,
      "outputs": [
        {
          "output_type": "stream",
          "name": "stdout",
          "text": [
            "a.out  prog.c  sample_data\n"
          ]
        }
      ]
    },
    {
      "cell_type": "code",
      "source": [
        "!gcc prog.c"
      ],
      "metadata": {
        "id": "XCso6M7w91pu"
      },
      "execution_count": null,
      "outputs": []
    },
    {
      "cell_type": "code",
      "source": [
        "!./a.out"
      ],
      "metadata": {
        "id": "ayw1Nwvk99aj",
        "outputId": "91ad1321-5c6f-4894-da9c-2b1888eac1a2",
        "colab": {
          "base_uri": "https://localhost:8080/"
        }
      },
      "execution_count": null,
      "outputs": [
        {
          "output_type": "stream",
          "name": "stdout",
          "text": [
            "enter a number:7\n",
            "factorial=5040\n"
          ]
        }
      ]
    },
    {
      "cell_type": "markdown",
      "source": [],
      "metadata": {
        "id": "ca7xV1PsekCV"
      }
    }
  ]
}