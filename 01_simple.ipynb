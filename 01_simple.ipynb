{
  "nbformat": 4,
  "nbformat_minor": 0,
  "metadata": {
    "colab": {
      "name": "01_simple.ipynb",
      "provenance": [],
      "include_colab_link": true
    },
    "kernelspec": {
      "name": "python3",
      "display_name": "Python 3"
    }
  },
  "cells": [
    {
      "cell_type": "markdown",
      "metadata": {
        "id": "view-in-github",
        "colab_type": "text"
      },
      "source": [
        "<a href=\"https://colab.research.google.com/github/poojavvs/simpleprogram/blob/main/01_simple.ipynb\" target=\"_parent\"><img src=\"https://colab.research.google.com/assets/colab-badge.svg\" alt=\"Open In Colab\"/></a>"
      ]
    },
    {
      "cell_type": "code",
      "metadata": {
        "id": "6kfdjeSwTN2p",
        "outputId": "b0a36b50-ed62-4ab7-cdee-01b486890402",
        "colab": {
          "base_uri": "https://localhost:8080/",
          "height": 35
        }
      },
      "source": [
        "%%writefile prog.c\n",
        "\n",
        "#include<stdio.h>\n",
        "\n",
        "int main(void)\n",
        "{\n",
        "    printf(\"Hello World!~~~\");\n",
        "\n",
        "    return 0;  // 정상 완료\n",
        "}"
      ],
      "execution_count": null,
      "outputs": [
        {
          "output_type": "stream",
          "text": [
            "Writing prog.c\n"
          ],
          "name": "stdout"
        }
      ]
    },
    {
      "cell_type": "code",
      "metadata": {
        "id": "I1QFktLNUGD1",
        "outputId": "570745cd-f96c-460f-838b-60a19c53b97c",
        "colab": {
          "base_uri": "https://localhost:8080/",
          "height": 35
        }
      },
      "source": [
        "!ls"
      ],
      "execution_count": null,
      "outputs": [
        {
          "output_type": "stream",
          "text": [
            "prog.c\tsample_data\n"
          ],
          "name": "stdout"
        }
      ]
    },
    {
      "cell_type": "code",
      "metadata": {
        "id": "eKihNbD_UHYB",
        "outputId": "ccf44fcf-65fc-4308-dc0f-7528dcbcbe4a",
        "colab": {
          "base_uri": "https://localhost:8080/",
          "height": 107
        }
      },
      "source": [
        "!gcc --version"
      ],
      "execution_count": null,
      "outputs": [
        {
          "output_type": "stream",
          "text": [
            "gcc (Ubuntu 7.4.0-1ubuntu1~18.04) 7.4.0\n",
            "Copyright (C) 2017 Free Software Foundation, Inc.\n",
            "This is free software; see the source for copying conditions.  There is NO\n",
            "warranty; not even for MERCHANTABILITY or FITNESS FOR A PARTICULAR PURPOSE.\n",
            "\n"
          ],
          "name": "stdout"
        }
      ]
    },
    {
      "cell_type": "code",
      "metadata": {
        "id": "OT9t0yXdUNzI"
      },
      "source": [
        "!gcc -o hello prog.c"
      ],
      "execution_count": null,
      "outputs": []
    },
    {
      "cell_type": "code",
      "metadata": {
        "id": "0uoBCc8UUXyn",
        "outputId": "e06d0bf3-9e4a-4489-e17d-26bf14cfc7fd",
        "colab": {
          "base_uri": "https://localhost:8080/",
          "height": 35
        }
      },
      "source": [
        "!./hello"
      ],
      "execution_count": null,
      "outputs": [
        {
          "output_type": "stream",
          "text": [
            "Hello World!~~~"
          ],
          "name": "stdout"
        }
      ]
    },
    {
      "cell_type": "markdown",
      "source": [
        "**2.check if a number is even or odd**"
      ],
      "metadata": {
        "id": "wMi5fFv9yqkj"
      }
    },
    {
      "cell_type": "code",
      "source": [
        "%%writefile prog.c\n",
        "#include<stdio.h>\n",
        "int main(){\n",
        "  int num;\n",
        "  printf(\"enter a number:\");\n",
        "  scanf(\"%d\",&num);\n",
        "  if(num%2==0)\n",
        "  printf(\"even\\n\");\n",
        "  else;\n",
        "  printf(\"odd\\n\");\n",
        "  return 0;\n",
        "}"
      ],
      "metadata": {
        "colab": {
          "base_uri": "https://localhost:8080/"
        },
        "id": "ZxDrUdEWy3kf",
        "outputId": "8615d26e-a929-476f-afe6-52c547e84f35"
      },
      "execution_count": null,
      "outputs": [
        {
          "output_type": "stream",
          "name": "stdout",
          "text": [
            "Overwriting prog.c\n"
          ]
        }
      ]
    },
    {
      "cell_type": "code",
      "source": [
        "!ls"
      ],
      "metadata": {
        "colab": {
          "base_uri": "https://localhost:8080/"
        },
        "id": "DI93jDO0zvgS",
        "outputId": "375f06c5-0811-484e-cc21-00407029b81c"
      },
      "execution_count": null,
      "outputs": [
        {
          "output_type": "stream",
          "name": "stdout",
          "text": [
            "prog.c\tsample_data  swap\n"
          ]
        }
      ]
    },
    {
      "cell_type": "code",
      "source": [
        "!gcc prog.c"
      ],
      "metadata": {
        "id": "EgLz6Gs-zyNk"
      },
      "execution_count": null,
      "outputs": []
    },
    {
      "cell_type": "code",
      "source": [
        "!./a.out"
      ],
      "metadata": {
        "colab": {
          "base_uri": "https://localhost:8080/"
        },
        "id": "c85vRXN80du2",
        "outputId": "887a4628-d6f6-4f18-8b12-b4dad70ab124"
      },
      "execution_count": null,
      "outputs": [
        {
          "output_type": "stream",
          "name": "stdout",
          "text": [
            "enter a number:3\n",
            "odd\n"
          ]
        }
      ]
    }
  ]
}